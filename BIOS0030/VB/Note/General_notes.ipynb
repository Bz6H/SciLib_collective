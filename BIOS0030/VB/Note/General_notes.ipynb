{
 "cells": [
  {
   "cell_type": "markdown",
   "id": "0604b480-8bfc-4aef-b742-6570fad16368",
   "metadata": {
    "tags": []
   },
   "source": [
    "# Variables\n",
    "## Types of variables\n",
    "### Variables\n",
    "- `int` integers i.e. whole numbers e.g. `0, 1, -7, 243`, **non-mutable**.\n",
    "- `float` decimal numbers e.g. `-1.4, 2.3411, 9.0`, **non-mutable**.\n",
    "- `bool` boolean or logical values which can be `True` or `False`, **non-mutable**.\n",
    "- `str` string i.e. text objects e.g. `\"hello world\"`, **non-mutable**.\n",
    "### Containers (can store multiple objects)\n",
    "- `list` **mutable** list able to store several Python objects e.g. `[1, 2, 3]`.\n",
    "    - Objects in list called **items**.\n",
    "    - Items can be of any variable type.\n",
    "- `tuple` **non-mutable** indexed list able to store several Python objects e.g. `(1, 2, 3)`.\n",
    "    - Objects in tuples also called **items**.\n",
    "    - Items can be of any variable type.\n",
    "- `dict` stores several objects as key-value pairs, **mutable** e.g. `{key1:value1, key2:value2}`.\n",
    "    - Keys & values can be of any variable type.\n",
    "    - Each key in a dictionary must be unique.\n",
    "## Defining variables\n",
    "- Code: `variable_name = value` (General form).\n",
    "- variable name could be any as long as **start with letter** (there are more restrictions, yet will not be tested on).\n",
    "- value determines the type of variable.\n",
    "### Examples"
   ]
  },
  {
   "cell_type": "code",
   "execution_count": 1,
   "id": "5bd4fb40-8ba9-4b72-a880-f4e8badcf517",
   "metadata": {},
   "outputs": [],
   "source": [
    "example_int = 1  # int\n",
    "example_str = 1.0 # float\n",
    "example_bool = True # bool\n",
    "example_str = \"This is a string\" # str\n",
    "example_list = [1, 2, 3] # list\n",
    "example_dict = { 'key1': 1, 'key2': 2} # dict\n",
    "example_tuple = (1,2,3) # tuple\n",
    "example_none = None # empty variable"
   ]
  },
  {
   "cell_type": "markdown",
   "id": "38f81574-dac1-49f9-a33b-92ded2a0b411",
   "metadata": {
    "tags": []
   },
   "source": [
    "# Calculations\n",
    "## Number formatting\n",
    "- Scientific notation: `1.0e10`\n",
    "- Underscore notation: `10_000_000_000`, for readability\n",
    "## Mathematical operators and functions without any packages\n",
    "- `+`, add\n",
    "- `-`, minus\n",
    "- `*`, multiply\n",
    "- `/`, divide\n",
    "- `()`, brackets\n",
    "- `**`, to the power of\n",
    "- `//`, divide (return **integer**)\n",
    "- `%`, modulo (return **remainder** after division)\n",
    "- `round(x, y)`, round (Return x rounded to y decimal places)\n",
    "## Mathematical functions with **math** package\n",
    "- `import math`, (load maths module)\n",
    "- `math.pi`, $\\pi$, 3.1415926...\n",
    "- `math.pow(x, y)`, $x^y$\n",
    "- `math.sqrt(x)`, $\\sqrt{x}$\n",
    "- `math.exp(x)`, $e^x$\n",
    "- `math.sin(x)`, `math.cos(x)`, `math.tan(x)`, trigonometric functions (return **radians**)\n",
    "- `math.log(x)`, $\\ln(x)$\n",
    "- `math.log10(x)`, $\\log_{10}(x)$"
   ]
  },
  {
   "cell_type": "markdown",
   "id": "6d395415-d35a-4ac6-aa1d-6030a84d0f0a",
   "metadata": {
    "tags": []
   },
   "source": [
    "# Strings\n",
    "## Print strings\n",
    "- Code: `print(string)`.\n",
    "### Example"
   ]
  },
  {
   "cell_type": "code",
   "execution_count": 2,
   "id": "73bb74b3-d82c-4614-b601-9ad8ff4861de",
   "metadata": {},
   "outputs": [
    {
     "name": "stdout",
     "output_type": "stream",
     "text": [
      "Hello world!\n"
     ]
    }
   ],
   "source": [
    "print(\"Hello world!\")"
   ]
  },
  {
   "cell_type": "markdown",
   "id": "efce722c-3924-43b7-9ff5-eb61fb0550c9",
   "metadata": {},
   "source": [
    "## Defining strings\n",
    "- Code: `string_name = \"string\"`, `\"` and `'` are interchangeable.\n",
    "- `\"\"\"`, long string, allow the text to extend over several lines.\n",
    "- `\\n`, new line character.\n",
    "- `\\t`, tab character.\n",
    "### Examples"
   ]
  },
  {
   "cell_type": "code",
   "execution_count": 3,
   "id": "b14b119e-6f74-42f5-adb7-c4ff06889cff",
   "metadata": {},
   "outputs": [
    {
     "name": "stdout",
     "output_type": "stream",
     "text": [
      "My name is Vincent.\n"
     ]
    }
   ],
   "source": [
    "str1 = \"My name is Vincent.\"\n",
    "print(str1)"
   ]
  },
  {
   "cell_type": "code",
   "execution_count": 4,
   "id": "48e7edef-12ba-44f2-92eb-3f850a949370",
   "metadata": {},
   "outputs": [
    {
     "name": "stdout",
     "output_type": "stream",
     "text": [
      "My name is Vincent.\n"
     ]
    }
   ],
   "source": [
    "str2 = 'My name is Vincent.'\n",
    "print(str2)"
   ]
  },
  {
   "cell_type": "code",
   "execution_count": 5,
   "id": "6d250b20-d705-49a8-bed6-6b6c5a61752a",
   "metadata": {},
   "outputs": [
    {
     "name": "stdout",
     "output_type": "stream",
     "text": [
      "First line\n",
      "Second line\n"
     ]
    }
   ],
   "source": [
    "str3 = \"\"\"First line\n",
    "Second line\"\"\"\n",
    "print(str3)"
   ]
  },
  {
   "cell_type": "code",
   "execution_count": 6,
   "id": "0b820b61-e557-4211-ae71-2c5dc820f4ab",
   "metadata": {},
   "outputs": [
    {
     "name": "stdout",
     "output_type": "stream",
     "text": [
      "Third line\\Fourth line\n"
     ]
    }
   ],
   "source": [
    "str4 = \"Third line\\Fourth line\"\n",
    "print(str4)"
   ]
  },
  {
   "cell_type": "code",
   "execution_count": 7,
   "id": "6c5657a8-7b16-45b9-97e5-84987b6246f9",
   "metadata": {},
   "outputs": [
    {
     "name": "stdout",
     "output_type": "stream",
     "text": [
      "My name is\tVincent.\n"
     ]
    }
   ],
   "source": [
    "str5 = \"My name is\\tVincent.\"\n",
    "print(str5)"
   ]
  },
  {
   "cell_type": "markdown",
   "id": "5069e89f-aab1-4063-b03a-02ac3c5d9539",
   "metadata": {
    "tags": []
   },
   "source": [
    "## Working with strings\n",
    "- `string[idx]`, accessing character using character index, **count from 0**.\n",
    "- `string[idx1: idx2]`, take a slice of string by start index and end index. The character at the **end index is not included** in the slice.\n",
    "    - `[:]`, slices all characters.\n",
    "    - `[:idx2]`, slices all characters, but not including end index.\n",
    "    - `[idx1:]`, slices from start index to the end of string.\n",
    "- `len(string)`, finding length of string.\n",
    "### Examples"
   ]
  },
  {
   "cell_type": "code",
   "execution_count": 8,
   "id": "e6da254e-e29f-48d0-84e1-c6e8b78fe10b",
   "metadata": {},
   "outputs": [
    {
     "name": "stdout",
     "output_type": "stream",
     "text": [
      "c\n"
     ]
    }
   ],
   "source": [
    "mystr = \"abcdefg\"\n",
    "print(mystr[2])"
   ]
  },
  {
   "cell_type": "code",
   "execution_count": 9,
   "id": "d71cfa1e-6b3c-425e-b17b-20ad1207b58e",
   "metadata": {},
   "outputs": [
    {
     "name": "stdout",
     "output_type": "stream",
     "text": [
      "cde\n"
     ]
    }
   ],
   "source": [
    "print(mystr[2:5])"
   ]
  },
  {
   "cell_type": "code",
   "execution_count": 10,
   "id": "94bc082c-75b1-46ad-a1bf-248b4d9c3d63",
   "metadata": {},
   "outputs": [
    {
     "name": "stdout",
     "output_type": "stream",
     "text": [
      "7\n"
     ]
    }
   ],
   "source": [
    "print(len(mystr))"
   ]
  },
  {
   "cell_type": "markdown",
   "id": "a61a9a24-9cab-47a8-a7d8-517549953a95",
   "metadata": {
    "tags": []
   },
   "source": [
    "## Formatted string literal - f-strings\n",
    "- Code: `string_name = f\"string {python_code}\"`.\n",
    "- Allow embedding Python code within strings.\n",
    "### Examples"
   ]
  },
  {
   "cell_type": "code",
   "execution_count": 11,
   "id": "e8d57b8a-c66b-486c-a936-0fea427e7ff9",
   "metadata": {},
   "outputs": [
    {
     "name": "stdout",
     "output_type": "stream",
     "text": [
      "Hi, I am Vincent. I am 20 years old.\n"
     ]
    }
   ],
   "source": [
    "name = \"Vincent\"\n",
    "age = 20\n",
    "print(f\"Hi, I am {name}. I am {age} years old.\")"
   ]
  },
  {
   "cell_type": "markdown",
   "id": "8010c25d-71e5-4799-8103-2981ec1c5e17",
   "metadata": {},
   "source": [
    "### Display formatted number using f-strings\n",
    "- `f\"{num:.nf}\"`, convert num to float and round to n decimal place.\n",
    "- `f\"{num:.ne}\"`, convert num to scientific notation and round to n decimal place.\n",
    "- `f\"{num:.ng}\"`, convert num to n sig.figs.\n",
    "#### Examples"
   ]
  },
  {
   "cell_type": "code",
   "execution_count": 12,
   "id": "559ee960-2cfb-4dbf-b566-375da29eed1e",
   "metadata": {},
   "outputs": [
    {
     "name": "stdout",
     "output_type": "stream",
     "text": [
      "1.23\n",
      "1.23e+00\n",
      "1.2\n"
     ]
    }
   ],
   "source": [
    "print(f\"{1.2345:.2f}\")\n",
    "print(f\"{1.2345:.2e}\")\n",
    "print(f\"{1.2345:.2g}\")"
   ]
  },
  {
   "cell_type": "markdown",
   "id": "31bfec04-33c4-4209-a36e-63c9c270365c",
   "metadata": {},
   "source": [
    "# Containers\n",
    "## Lists\n",
    "### Defining Lists\n",
    "- Code:`list_name = [element1, element2]`.\n",
    "- Element can be of any variables.\n",
    "- Mutable, providing functions to edit elements.\n",
    "#### Examples"
   ]
  },
  {
   "cell_type": "code",
   "execution_count": 13,
   "id": "6068639c-d3a5-4c6e-8449-8806f60d5e7e",
   "metadata": {},
   "outputs": [],
   "source": [
    "list1 = [] # Definining an empty list\n",
    "list2 = [1, 2, 3, 4, 5]"
   ]
  },
  {
   "cell_type": "markdown",
   "id": "3747d0a7-0ba0-43d2-bb1c-18252824c5f8",
   "metadata": {},
   "source": [
    "### Working with Lists\n",
    "- `list[idx]`, accessing element using index, **count from 0 negative indices trace backwards, with -1 referring to the last element**.\n",
    "- `list[idx1: idx2]`, take a slice of a list by specifying a start index and an end index. The element at the **end index is not included** in the slice.\n",
    "    - `[:]`, slices all elements.\n",
    "    - `[:idx2]`, slices all elements, but not including end index.\n",
    "    - `[idx1:]`, slices from start index to the end of list.\n",
    "- `list.append(element)`, appending element to the end of list.\n",
    "- `list.pop(idx)` or `del list[idx]`, removing element at the specified index.\n",
    "- `list.remove(element)`, removing specified element (if there are duplicate elements in the list, **only the first one will be removed**).\n",
    "- `len(list)`, find length of list.\n",
    "#### Examples"
   ]
  },
  {
   "cell_type": "code",
   "execution_count": 14,
   "id": "c351807d-5a58-4285-9cb9-5c1b5c6c9ee2",
   "metadata": {},
   "outputs": [
    {
     "name": "stdout",
     "output_type": "stream",
     "text": [
      "Access the element at index 2: 3\n",
      "Access the element at index -2: 4\n"
     ]
    }
   ],
   "source": [
    "list3 = [1, 2, 3, 4, 5]\n",
    "print(f\"Access the element at index 2: {list3[2]}\")\n",
    "print(f\"Access the element at index -2: {list3[-2]}\")"
   ]
  },
  {
   "cell_type": "code",
   "execution_count": 15,
   "id": "603e3e6f-909f-447f-b631-58617400a4e2",
   "metadata": {},
   "outputs": [
    {
     "name": "stdout",
     "output_type": "stream",
     "text": [
      "Access the elements from index 2 to 4: [3, 4]\n",
      "Access the elements from the begining up to index -2: [1, 2, 3]\n",
      "Access the elements from index 2 up to the end: [3, 4, 5]\n"
     ]
    }
   ],
   "source": [
    "list4 = [1, 2, 3, 4, 5]\n",
    "print(f\"Access the elements from index 2 to 4: {list4[2:4]}\")\n",
    "print(f\"Access the elements from the begining up to index -2: {list4[:-2]}\")\n",
    "print(f\"Access the elements from index 2 up to the end: {list4[2:]}\")"
   ]
  },
  {
   "cell_type": "code",
   "execution_count": 16,
   "id": "2fd05cac-f7a0-442c-8b4f-962bf1bd83ea",
   "metadata": {},
   "outputs": [
    {
     "name": "stdout",
     "output_type": "stream",
     "text": [
      "Accessing elements in sublists, using two indices: f\n"
     ]
    }
   ],
   "source": [
    "list5 = [[\"a\", \"b\", \"c\"],[\"d\", \"e\", \"f\"]] # Defining nested list\n",
    "print(f\"Accessing elements in sublists, using two indices: {list5[1][2]}\")"
   ]
  },
  {
   "cell_type": "code",
   "execution_count": 17,
   "id": "8159a76a",
   "metadata": {},
   "outputs": [
    {
     "name": "stdout",
     "output_type": "stream",
     "text": [
      "[0, 2, 3, 4, 5]\n"
     ]
    }
   ],
   "source": [
    "list6 = [1, 2, 3, 4, 5]\n",
    "list6[0] = 0\n",
    "print(list6)"
   ]
  },
  {
   "cell_type": "code",
   "execution_count": 18,
   "id": "6b37ae2d-6783-4ff7-9411-57882d53ee55",
   "metadata": {},
   "outputs": [
    {
     "name": "stdout",
     "output_type": "stream",
     "text": [
      "[1, 2, 3, 4]\n"
     ]
    }
   ],
   "source": [
    "list7 = [1, 2, 3]\n",
    "list7.append(4)\n",
    "print(list7)"
   ]
  },
  {
   "cell_type": "code",
   "execution_count": 19,
   "id": "8936198a",
   "metadata": {},
   "outputs": [
    {
     "name": "stdout",
     "output_type": "stream",
     "text": [
      "[1, 2, 3, 5]\n"
     ]
    }
   ],
   "source": [
    "list8 = [1, 2, 3, 4, 5]\n",
    "list8.pop(3)\n",
    "print(list8)"
   ]
  },
  {
   "cell_type": "code",
   "execution_count": 20,
   "id": "a037c8bd",
   "metadata": {},
   "outputs": [
    {
     "name": "stdout",
     "output_type": "stream",
     "text": [
      "[2, 3, 4, 5]\n"
     ]
    }
   ],
   "source": [
    "list9 = [1, 2, 3, 4, 5]\n",
    "del list9[0]\n",
    "print(list9)"
   ]
  },
  {
   "cell_type": "code",
   "execution_count": 21,
   "id": "08fa48e4",
   "metadata": {},
   "outputs": [
    {
     "name": "stdout",
     "output_type": "stream",
     "text": [
      "[1, 3, 4, 5]\n"
     ]
    }
   ],
   "source": [
    "list10 = [1, 2, 3, 4, 5]\n",
    "list10.remove(2)\n",
    "print(list10)"
   ]
  },
  {
   "cell_type": "code",
   "execution_count": 22,
   "id": "6c0b1a9a",
   "metadata": {},
   "outputs": [
    {
     "name": "stdout",
     "output_type": "stream",
     "text": [
      "9\n"
     ]
    }
   ],
   "source": [
    "list11 = [1, 2, 3, 4, 5, 6, 7, 8, 9]\n",
    "print(len(list11))"
   ]
  },
  {
   "cell_type": "markdown",
   "id": "ea1f6784",
   "metadata": {},
   "source": [
    "## Tuples\n",
    "### Defining Tuples\n",
    "- Code:`tuple_name = (element1, element2)`.\n",
    "- Element can be of any variables.\n",
    "- Immutable, allowing no edition to elements.\n",
    "#### Examples"
   ]
  },
  {
   "cell_type": "code",
   "execution_count": 23,
   "id": "6f42a1b6",
   "metadata": {},
   "outputs": [],
   "source": [
    "tuple1 = () # Defining an empty tuple\n",
    "tuple2 = (1, 2, 3, 4, 5)"
   ]
  },
  {
   "cell_type": "markdown",
   "id": "1d531747",
   "metadata": {},
   "source": [
    "### Working with Tuples\n",
    "- `tuple[idx]`, accessing element using index, **count from 0 negative indices trace backwards, with -1 referring to the last element**.\n",
    "- `tuple[idx1: idx2]`, take a slice of a tuple by specifying a start index and an end index. The element at the **end index is not included** in the slice.\n",
    "    - `[:]`, slices all elements.\n",
    "    - `[:idx2]`, slices all elements, but not including end index.\n",
    "    - `[idx1:]`, slices from start index to the end of tuple.\n",
    "- `len(tupple)`, find length of tuple.\n",
    "#### Examples"
   ]
  },
  {
   "cell_type": "code",
   "execution_count": 24,
   "id": "f13727cc",
   "metadata": {},
   "outputs": [
    {
     "name": "stdout",
     "output_type": "stream",
     "text": [
      "Access the element at index 2: 3\n",
      "Access the element at index -2: 4\n"
     ]
    }
   ],
   "source": [
    "tuple3 = (1, 2, 3, 4, 5)\n",
    "print(f\"Access the element at index 2: {tuple3[2]}\")\n",
    "print(f\"Access the element at index -2: {tuple3[-2]}\")"
   ]
  },
  {
   "cell_type": "code",
   "execution_count": 25,
   "id": "f3ba8c16",
   "metadata": {},
   "outputs": [
    {
     "name": "stdout",
     "output_type": "stream",
     "text": [
      "Access the elements from index 2 to 4: (3, 4)\n",
      "Access the elements from the begining up to index -2: (1, 2, 3)\n",
      "Access the elements from index 2 up to the end: (3, 4, 5)\n"
     ]
    }
   ],
   "source": [
    "tuple4 = (1, 2, 3, 4, 5)\n",
    "print(f\"Access the elements from index 2 to 4: {tuple4[2:4]}\")\n",
    "print(f\"Access the elements from the begining up to index -2: {tuple4[:-2]}\")\n",
    "print(f\"Access the elements from index 2 up to the end: {tuple4[2:]}\")"
   ]
  },
  {
   "cell_type": "code",
   "execution_count": 26,
   "id": "081b236e",
   "metadata": {},
   "outputs": [
    {
     "name": "stdout",
     "output_type": "stream",
     "text": [
      "Accessing elements in sublists, using two indices: f\n"
     ]
    }
   ],
   "source": [
    "tuple5 = ((\"a\", \"b\", \"c\"),(\"d\", \"e\", \"f\")) # Defining nested tuple\n",
    "print(f\"Accessing elements in sublists, using two indices: {tuple5[1][2]}\")"
   ]
  },
  {
   "cell_type": "code",
   "execution_count": 27,
   "id": "d55e6fce",
   "metadata": {},
   "outputs": [
    {
     "name": "stdout",
     "output_type": "stream",
     "text": [
      "3\n"
     ]
    }
   ],
   "source": [
    "tuple6 = (1, 2, 3)\n",
    "print(len(tuple6))"
   ]
  },
  {
   "cell_type": "markdown",
   "id": "f44e6bf4",
   "metadata": {},
   "source": [
    "## Dicts\n",
    "### Defining Dicts\n",
    "- Code:`dict_name = {key1: value1, key2: value2}`\n",
    "- Keys and values can be of any variables.\n",
    "- Mutable, providing functions to edit keys and values.\n",
    "#### Examples"
   ]
  },
  {
   "cell_type": "code",
   "execution_count": 28,
   "id": "8c4ce44c",
   "metadata": {},
   "outputs": [],
   "source": [
    "dict1 = {} # Defining an empty dict\n",
    "dict2 = {\"a\":\"apple\",\n",
    "         \"b\":\"banana\"}"
   ]
  },
  {
   "cell_type": "markdown",
   "id": "bc8aa1fe",
   "metadata": {},
   "source": [
    "### Working with Dicts\n",
    "- `dict[key]`, accessing value using key.\n",
    "- `dict.get(key, default_return)`, accessing value using key. If key does not exist, return default return.\n",
    "- `dict[key] = value`, assigning value to key within the dict. If key is new, adds key-value pair, if key already exist, updates existing key with new value.\n",
    "- `dict.keys()`, retrieving all keys from the dictionary. Returns a iterable object containing the keys.\n",
    "- `len(dict)`, find length of dict.\n",
    "#### Examples"
   ]
  },
  {
   "cell_type": "code",
   "execution_count": 29,
   "id": "c6ea54de",
   "metadata": {},
   "outputs": [
    {
     "name": "stdout",
     "output_type": "stream",
     "text": [
      "Access the value of key \"a\": apple\n",
      "Access the value of key \"c\": c do not exist\n"
     ]
    }
   ],
   "source": [
    "dict3 = {\"a\":\"apple\",\n",
    "         \"b\":\"banana\"}\n",
    "print(f\"Access the value of key \\\"a\\\": {dict3['a']}\")\n",
    "print(f\"Access the value of key \\\"c\\\": {dict3.get('c','c do not exist')}\")"
   ]
  },
  {
   "cell_type": "code",
   "execution_count": 30,
   "id": "b9a1fd61",
   "metadata": {},
   "outputs": [
    {
     "name": "stdout",
     "output_type": "stream",
     "text": [
      "{'a': 'apple', 'b': 'banana', 'c': 'cherry'}\n"
     ]
    }
   ],
   "source": [
    "dict4 = {\"a\":\"apple\",\n",
    "         \"b\":\"banana\"}\n",
    "dict4[\"c\"] = \"cherry\"\n",
    "print(dict4)"
   ]
  },
  {
   "cell_type": "code",
   "execution_count": 31,
   "id": "e43ce8db",
   "metadata": {},
   "outputs": [
    {
     "name": "stdout",
     "output_type": "stream",
     "text": [
      "dict_keys(['a', 'b'])\n"
     ]
    }
   ],
   "source": [
    "dict5 = {\"a\":\"apple\",\n",
    "         \"b\":\"banana\"}\n",
    "print(dict5.keys())"
   ]
  },
  {
   "cell_type": "code",
   "execution_count": 32,
   "id": "01aa0cf4",
   "metadata": {},
   "outputs": [
    {
     "name": "stdout",
     "output_type": "stream",
     "text": [
      "3\n"
     ]
    }
   ],
   "source": [
    "dict6 = {\"a\":\"apple\",\n",
    "         \"b\":\"banana\",\n",
    "         \"c\":\"cherry\"}\n",
    "print(len(dict6))"
   ]
  },
  {
   "cell_type": "markdown",
   "id": "ba3d70b5-7bde-472f-b678-5fdb285efd32",
   "metadata": {},
   "source": [
    "# Comparison\n",
    "## Comparison operators\n",
    "- `>`, greater than\n",
    "- `<`, less than\n",
    "- `>=`, greater than or equal to\n",
    "- `<=`, less than or equal to\n",
    "- `==`, equal to\n",
    "- `!=`, not equal to\n",
    "- `not`, inverte comparison, changing a `True` statement into `False`\n",
    "- `and`, combines two comparisons with logical AND condition\n",
    "- `or`, combines two comparisons with logical OR condition\n",
    "- `is`, checks if variables point at the same object\n",
    "### Examples\n",
    "#### Numbers"
   ]
  },
  {
   "cell_type": "code",
   "execution_count": 33,
   "id": "02b56f61-e254-49a4-8343-b1cef9dee408",
   "metadata": {},
   "outputs": [
    {
     "data": {
      "text/plain": [
       "True"
      ]
     },
     "execution_count": 33,
     "metadata": {},
     "output_type": "execute_result"
    }
   ],
   "source": [
    "2 > 1"
   ]
  },
  {
   "cell_type": "code",
   "execution_count": 34,
   "id": "34fe3951-3490-4fcf-97b3-481983c9e37a",
   "metadata": {},
   "outputs": [
    {
     "data": {
      "text/plain": [
       "True"
      ]
     },
     "execution_count": 34,
     "metadata": {},
     "output_type": "execute_result"
    }
   ],
   "source": [
    "2 >= 1"
   ]
  },
  {
   "cell_type": "code",
   "execution_count": 35,
   "id": "404cfb23-7f61-4a15-a9d6-3095f2df877b",
   "metadata": {},
   "outputs": [
    {
     "data": {
      "text/plain": [
       "False"
      ]
     },
     "execution_count": 35,
     "metadata": {},
     "output_type": "execute_result"
    }
   ],
   "source": [
    "2 < 1"
   ]
  },
  {
   "cell_type": "code",
   "execution_count": 36,
   "id": "99633f41-1a43-4a42-a5cf-352a87782f7a",
   "metadata": {},
   "outputs": [
    {
     "data": {
      "text/plain": [
       "False"
      ]
     },
     "execution_count": 36,
     "metadata": {},
     "output_type": "execute_result"
    }
   ],
   "source": [
    "2 <= 1"
   ]
  },
  {
   "cell_type": "code",
   "execution_count": 37,
   "id": "fecb8fc7-5a56-45a9-bf6e-0fbf323b8ac3",
   "metadata": {},
   "outputs": [
    {
     "data": {
      "text/plain": [
       "True"
      ]
     },
     "execution_count": 37,
     "metadata": {},
     "output_type": "execute_result"
    }
   ],
   "source": [
    "2 == 2"
   ]
  },
  {
   "cell_type": "code",
   "execution_count": 38,
   "id": "cccac883-2fe9-40cc-9fe7-d1d4da0755b9",
   "metadata": {},
   "outputs": [
    {
     "data": {
      "text/plain": [
       "False"
      ]
     },
     "execution_count": 38,
     "metadata": {},
     "output_type": "execute_result"
    }
   ],
   "source": [
    "2 != 2"
   ]
  },
  {
   "cell_type": "code",
   "execution_count": 39,
   "id": "c8c812c2-023e-42fa-a86d-46277b630246",
   "metadata": {},
   "outputs": [
    {
     "data": {
      "text/plain": [
       "False"
      ]
     },
     "execution_count": 39,
     "metadata": {},
     "output_type": "execute_result"
    }
   ],
   "source": [
    "2 < 1 and 2 < 3"
   ]
  },
  {
   "cell_type": "code",
   "execution_count": 40,
   "id": "f15f8939-d252-4641-a3bb-796a4cda146a",
   "metadata": {},
   "outputs": [
    {
     "data": {
      "text/plain": [
       "True"
      ]
     },
     "execution_count": 40,
     "metadata": {},
     "output_type": "execute_result"
    }
   ],
   "source": [
    "2 < 1 or 2 < 3"
   ]
  },
  {
   "cell_type": "markdown",
   "id": "ede7a7d7-2d4d-45e4-b8d1-c948df673e91",
   "metadata": {},
   "source": [
    "#### Strings"
   ]
  },
  {
   "cell_type": "code",
   "execution_count": 41,
   "id": "c33da48a-b522-4097-ac07-858ca211a6ec",
   "metadata": {},
   "outputs": [
    {
     "data": {
      "text/plain": [
       "True"
      ]
     },
     "execution_count": 41,
     "metadata": {},
     "output_type": "execute_result"
    }
   ],
   "source": [
    "\"abc\" == \"abc\""
   ]
  },
  {
   "cell_type": "code",
   "execution_count": 42,
   "id": "cee38fdf-0c79-49d0-be4e-841c3c4826ed",
   "metadata": {},
   "outputs": [
    {
     "data": {
      "text/plain": [
       "False"
      ]
     },
     "execution_count": 42,
     "metadata": {},
     "output_type": "execute_result"
    }
   ],
   "source": [
    "\"abc\" == \"def\""
   ]
  },
  {
   "cell_type": "markdown",
   "id": "83a71cad-719c-4d6b-ab82-30f103115ce9",
   "metadata": {},
   "source": [
    "# `if` `elif` `else` statements\n",
    "- Code:\n",
    "<br>`if condition1:`<br>&emsp;&emsp;`python_code1`<br>`elif condition2:`<br>&emsp;&emsp;`python_code2`<br>`else:`<br>&emsp;&emsp;`python_code3`\n",
    "- if the condition in an `if` statement is `False`, the program checks any subsequent `elif` conditions, and if all are `False`, the `else` block is executed if present.\n",
    "- There can be **one `if` statement, multiple `elif` statements, and one `else` statement**.\n",
    "## Examples"
   ]
  },
  {
   "cell_type": "code",
   "execution_count": 43,
   "id": "bae36457-60cc-4ebf-a91f-6e523129cd2d",
   "metadata": {},
   "outputs": [
    {
     "name": "stdout",
     "output_type": "stream",
     "text": [
      "num is greater than or equal to 3\n"
     ]
    }
   ],
   "source": [
    "num = 3\n",
    "if num < 1:\n",
    "    print(\"num is less than 1\")\n",
    "elif num < 2:\n",
    "    print(\"num is less than 2\")\n",
    "elif num < 3:\n",
    "    print(\"num is less than 3\")\n",
    "else:\n",
    "    print(\"num is greater than or equal to 3\")"
   ]
  },
  {
   "cell_type": "markdown",
   "id": "340b9064",
   "metadata": {},
   "source": [
    "# Loops\n",
    "## For Loop\n",
    "- Code:\n",
    "<br>`for variable_name in iterable_object:`<br>&emsp;&emsp;`python_code`\n",
    "- Most used iterable objects includes **range objects, lists, tuples, dicts**.\n",
    "### Examples"
   ]
  },
  {
   "cell_type": "code",
   "execution_count": 44,
   "id": "f3b25bff",
   "metadata": {},
   "outputs": [
    {
     "name": "stdout",
     "output_type": "stream",
     "text": [
      "0\n",
      "1\n",
      "2\n",
      "3\n",
      "4\n",
      "5\n",
      "6\n",
      "7\n",
      "8\n",
      "9\n"
     ]
    }
   ],
   "source": [
    "for i in range(10): # loop 10 times with for loop\n",
    "    print(i)"
   ]
  },
  {
   "cell_type": "code",
   "execution_count": 45,
   "id": "1294e53e",
   "metadata": {},
   "outputs": [
    {
     "name": "stdout",
     "output_type": "stream",
     "text": [
      "a\n",
      "b\n",
      "c\n",
      "d\n"
     ]
    }
   ],
   "source": [
    "for i in [\"a\", \"b\", \"c\", \"d\"]: # loop over list\n",
    "    print(i)"
   ]
  },
  {
   "cell_type": "code",
   "execution_count": 46,
   "id": "af1d325d",
   "metadata": {},
   "outputs": [
    {
     "name": "stdout",
     "output_type": "stream",
     "text": [
      "[1, 3, 5, 7]\n"
     ]
    }
   ],
   "source": [
    "# Use loop to calculate a sequence\n",
    "seq_results = []\n",
    "x = 1\n",
    "for i in range(4):\n",
    "    seq_results.append(x)\n",
    "    x = x + 2\n",
    "\n",
    "print(seq_results)"
   ]
  },
  {
   "cell_type": "code",
   "execution_count": 47,
   "id": "200116b4",
   "metadata": {},
   "outputs": [
    {
     "name": "stdout",
     "output_type": "stream",
     "text": [
      "a\n",
      "b\n",
      "c\n",
      "d\n",
      "e\n",
      "f\n",
      "g\n",
      "h\n",
      "i\n"
     ]
    }
   ],
   "source": [
    "# loop over items in nested list\n",
    "for i in [ [\"a\", \"b\", \"c\"], [\"d\", \"e\", \"f\"], [\"g\", \"h\", \"i\"] ]:\n",
    "    for j in i:\n",
    "        print(j)"
   ]
  },
  {
   "cell_type": "markdown",
   "id": "7e74345a",
   "metadata": {},
   "source": [
    "## While Loop\n",
    "- Code:\n",
    "<br>`while condition:`<br>&emsp;&emsp;`python_code`\n",
    "- Update variables involved in condition to alter loop's state, avoiding looping forever.\n",
    "### Examples"
   ]
  },
  {
   "cell_type": "code",
   "execution_count": 48,
   "id": "5a4e02e6",
   "metadata": {},
   "outputs": [
    {
     "name": "stdout",
     "output_type": "stream",
     "text": [
      "0\n",
      "1\n",
      "2\n",
      "3\n",
      "4\n",
      "5\n",
      "6\n",
      "7\n",
      "8\n",
      "9\n"
     ]
    }
   ],
   "source": [
    "# loop 10 times with while loop\n",
    "i = 0\n",
    "while i < 10:\n",
    "    print(i)\n",
    "    i = i + 1"
   ]
  },
  {
   "cell_type": "markdown",
   "id": "8c3eb3e2",
   "metadata": {},
   "source": [
    "# Function\n",
    "- Code:\n",
    "<br>`def function_name(parameter1, parameter2=default_value2):`<br>&emsp;&emsp;`python_code`<br>&emsp;&emsp;`return return_value`\n",
    "- Parameters and return value can be of any variables.\n",
    "- Parameters with default values must be positioned after those without defaults.\n",
    "- Variables defined within functions are **local variables**, and cannot be called from outside of the function.\n",
    "    - Declare a variable in a function as an existing global variable by using the global statement.\n",
    "## Examples"
   ]
  },
  {
   "cell_type": "code",
   "execution_count": 49,
   "id": "7cfe29f7",
   "metadata": {},
   "outputs": [
    {
     "name": "stdout",
     "output_type": "stream",
     "text": [
      "6\n"
     ]
    }
   ],
   "source": [
    "# define and call a function\n",
    "def sum(num1, num2, num3):\n",
    "    result = num1 + num2 + num3\n",
    "    return result\n",
    "\n",
    "print(sum(1,2,3))"
   ]
  },
  {
   "cell_type": "code",
   "execution_count": 50,
   "id": "551b6be2",
   "metadata": {},
   "outputs": [
    {
     "name": "stdout",
     "output_type": "stream",
     "text": [
      "0\n"
     ]
    }
   ],
   "source": [
    "# without global statement\n",
    "num = 0\n",
    "\n",
    "def update(v):\n",
    "    num = v # define a new variable num\n",
    "    return\n",
    "\n",
    "update(1)\n",
    "print(num)"
   ]
  },
  {
   "cell_type": "code",
   "execution_count": 51,
   "id": "dd978b9a",
   "metadata": {},
   "outputs": [
    {
     "name": "stdout",
     "output_type": "stream",
     "text": [
      "1\n"
     ]
    }
   ],
   "source": [
    "# with global statement\n",
    "num = 0\n",
    "\n",
    "def update(v):\n",
    "    global num # referring to global variable num\n",
    "    num = v\n",
    "    return\n",
    "\n",
    "update(1)\n",
    "print(num)"
   ]
  },
  {
   "cell_type": "code",
   "execution_count": 52,
   "id": "f10ecc2d",
   "metadata": {},
   "outputs": [
    {
     "name": "stdout",
     "output_type": "stream",
     "text": [
      "update num with default value: num = 1\n",
      "update num with v = 3: num = 3\n"
     ]
    }
   ],
   "source": [
    "# Use of default value\n",
    "num = 0\n",
    "\n",
    "def update(v=1): # set default value 1 to parameter v\n",
    "    global num\n",
    "    num = v\n",
    "    return\n",
    "\n",
    "update()\n",
    "print(f\"update num with default value: num = {num}\")\n",
    "update(3)\n",
    "print(f\"update num with v = 3: num = {num}\")"
   ]
  },
  {
   "cell_type": "markdown",
   "id": "f811ff86",
   "metadata": {},
   "source": [
    "# Class\n",
    "- Code:\n",
    "<br>`class class_name():`<br>&emsp;&emsp;`def __init__(self, parameter1, parameter2):`<br>&emsp;&emsp;&emsp;&emsp;`self.parameter_name1 = parameter1`<br>&emsp;&emsp;&emsp;&emsp;`self.parameter_name2 = parameter2`<br>&emsp;&emsp;&emsp;&emsp;`return`<br>&emsp;&emsp;`def __str__(self):`<br>&emsp;&emsp;&emsp;&emsp;`text = f\"Parameter1 is {self.parameter_name1}, and parameter2 is {self.parameter_name2}\"`<br>&emsp;&emsp;&emsp;&emsp;`return text`<br>&emsp;&emsp;`def __eq__(self, other):`<br>&emsp;&emsp;&emsp;&emsp;`if self.parameter_name1 == other.parameter_name1\"`<br>&emsp;&emsp;&emsp;&emsp;&emsp;&emsp;`return True`<br>&emsp;&emsp;&emsp;&emsp;`else:`<br>&emsp;&emsp;&emsp;&emsp;&emsp;&emsp;`return False`<br>&emsp;&emsp;`def function_name(self):`<br>&emsp;&emsp;&emsp;&emsp;`python_code\"`<br>&emsp;&emsp;&emsp;&emsp;`return return_value`\n",
    "- `self` parameter in class functions represents the instance itself.\n",
    "- `other` parameter in class functions represents another object to compare with the current instance.\n",
    "- `__init__()` method **initializes a new instance of a class**, taking parameters to set attributes stored in `self`.\n",
    "- `__str__()` method returns a **customizable string** representation of an instance for readability.\n",
    "- `__eq__()` method defines **custom equality comparison** between two instances.\n",
    "- `object.parameter_name`, accessing an attribute of an object.\n",
    "- `object.function_name`, calling a method of an object.\n",
    "## Examples"
   ]
  },
  {
   "cell_type": "code",
   "execution_count": 53,
   "id": "7e6afa9f",
   "metadata": {},
   "outputs": [],
   "source": [
    "class Book():\n",
    "    def __init__(self, title, page, author, format):\n",
    "        self.title = title\n",
    "        self.page = page\n",
    "        self.author = author\n",
    "        self.format = format\n",
    "        return\n",
    "    \n",
    "    def __str__(self):\n",
    "        text = f\"{self.title} has {self.page} pages, and is written by {self.author}. ({self.format})\"\n",
    "        return text\n",
    "    \n",
    "    def __eq__(self, other):\n",
    "        # we consider two books to be the same if they have the same title, page count, and author, regardless of the format of the book\n",
    "        if (self.title == other.title and self.page == other.page) and self.author == other.author:\n",
    "            return True\n",
    "        else:\n",
    "            return False\n",
    "    \n",
    "    def sell(self, price):\n",
    "        print(f\"You sold {self.title} for {price} GBP.\")\n",
    "        \n",
    "book1 = Book(\"The Vital Question\", 368, \"Nick Lane\", \"ebook\")\n",
    "book2 = Book(\"The Vital Question\", 368, \"Nick Lane\", \"hardcover\")\n",
    "book3 = Book(\"The Emperor of All Maladies\", 608, \"Siddhartha Mukherjee\", \"ebook\")"
   ]
  },
  {
   "cell_type": "code",
   "execution_count": 54,
   "id": "7db2add9",
   "metadata": {},
   "outputs": [
    {
     "name": "stdout",
     "output_type": "stream",
     "text": [
      "The Vital Question has 368 pages, and is written by Nick Lane. (ebook)\n",
      "The Vital Question has 368 pages, and is written by Nick Lane. (hardcover)\n",
      "The Emperor of All Maladies has 608 pages, and is written by Siddhartha Mukherjee. (ebook)\n"
     ]
    }
   ],
   "source": [
    "print(book1)\n",
    "print(book2)\n",
    "print(book3)"
   ]
  },
  {
   "cell_type": "code",
   "execution_count": 55,
   "id": "f529d350",
   "metadata": {},
   "outputs": [
    {
     "name": "stdout",
     "output_type": "stream",
     "text": [
      "Is book1 and book2 the same book?: True\n",
      "Is book1 and book3 the same book?: False\n"
     ]
    }
   ],
   "source": [
    "print(f\"Is book1 and book2 the same book?: {book1 == book2}\")\n",
    "print(f\"Is book1 and book3 the same book?: {book1 == book3}\")"
   ]
  },
  {
   "cell_type": "code",
   "execution_count": 56,
   "id": "b64ace01",
   "metadata": {},
   "outputs": [
    {
     "name": "stdout",
     "output_type": "stream",
     "text": [
      "You sold The Vital Question for 9.99 GBP.\n"
     ]
    }
   ],
   "source": [
    "book1.sell(9.99)"
   ]
  },
  {
   "cell_type": "markdown",
   "id": "d3805c6b-6784-460c-b592-916520cd1f83",
   "metadata": {},
   "source": [
    "# Files\n",
    "## Opening file\n",
    "- Code:`file = open(\"file_path\", \"access_mode\")`\n",
    "- Path could be either an **absolute path**, starting from root directory, or a **relative path**, starting from current working directory. \n",
    "- Usually 2 access mode will be used:\n",
    "    - `r`, read mode, the default mode, allowing for no edition to files.\n",
    "    - `w`, write mode, truncate file to 0 length to write new data, not readable.\n",
    "## Writing data\n",
    "- `file = open(\"file_path\", \"w\")`, open a file in write mode. If it does not exist create one.\n",
    "- `file.write(\"content\")`, write specified string to the file.\n",
    "- `file.close()`, close file, autosaved.\n",
    "### Examples"
   ]
  },
  {
   "cell_type": "code",
   "execution_count": 57,
   "id": "51ef9b58-d046-4642-811d-271a29b7d9c9",
   "metadata": {},
   "outputs": [],
   "source": [
    "file = open(\"test.txt\", \"w\")\n",
    "\n",
    "file.write(\"First line\\n\")\n",
    "file.write(\"Second line\\n\")\n",
    "\n",
    "file.close()"
   ]
  },
  {
   "cell_type": "markdown",
   "id": "26f66007-3921-4f3e-b1d1-563d88703929",
   "metadata": {},
   "source": [
    "## Reading data\n",
    "- `file = open(\"file_path\", \"r\")`, open a file in read mode.\n",
    "- `file.read()`, read data from file and return as a string.\n",
    "- `file.readline()`, read **a single line** from a file and returns it as a string, including the **newline character at the end**.\n",
    "- `file.close()`, close file.\n",
    "### Examples"
   ]
  },
  {
   "cell_type": "code",
   "execution_count": 58,
   "id": "60dd097c-a8fa-4226-a95a-700750593c66",
   "metadata": {},
   "outputs": [
    {
     "name": "stdout",
     "output_type": "stream",
     "text": [
      "First line\n",
      "\n",
      "Second line\n",
      "\n"
     ]
    }
   ],
   "source": [
    "file = open(\"test.txt\", \"r\")\n",
    "\n",
    "for line in file:\n",
    "    print(line)\n",
    "    \n",
    "file.close()"
   ]
  },
  {
   "cell_type": "code",
   "execution_count": 59,
   "id": "7cfbdbc4-f308-4c1b-8a33-0fe72c18733f",
   "metadata": {},
   "outputs": [
    {
     "name": "stdout",
     "output_type": "stream",
     "text": [
      "First line\n",
      "Second line\n",
      "\n"
     ]
    }
   ],
   "source": [
    "file = open(\"test.txt\", \"r\")\n",
    "\n",
    "contents = file.read()\n",
    "print(contents)\n",
    "\n",
    "file.close()"
   ]
  },
  {
   "cell_type": "code",
   "execution_count": 60,
   "id": "fe204298-3756-4def-8e33-0752e5afb81a",
   "metadata": {},
   "outputs": [
    {
     "name": "stdout",
     "output_type": "stream",
     "text": [
      "First line\n",
      "\n",
      "Second line\n",
      "\n"
     ]
    }
   ],
   "source": [
    "file = open(\"test.txt\", \"r\")\n",
    "\n",
    "line1 = file.readline()\n",
    "print(line1)\n",
    "line2 = file.readline()\n",
    "print(line2)\n",
    "\n",
    "file.close()"
   ]
  }
 ],
 "metadata": {
  "kernelspec": {
   "display_name": "Python 3 (ipykernel)",
   "language": "python",
   "name": "python3"
  },
  "language_info": {
   "codemirror_mode": {
    "name": "ipython",
    "version": 3
   },
   "file_extension": ".py",
   "mimetype": "text/x-python",
   "name": "python",
   "nbconvert_exporter": "python",
   "pygments_lexer": "ipython3",
   "version": "3.10.9"
  }
 },
 "nbformat": 4,
 "nbformat_minor": 5
}
